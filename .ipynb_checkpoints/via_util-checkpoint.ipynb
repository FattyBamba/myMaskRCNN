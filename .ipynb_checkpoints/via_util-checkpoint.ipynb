{
 "cells": [
  {
   "cell_type": "code",
   "execution_count": null,
   "metadata": {},
   "outputs": [],
   "source": [
    "\"\"\"\n",
    "Mask R-CNN\n",
    "Common utility functions for handling via generated annotations.\n",
    "Supports merging separate json files and copying those images with defined\n",
    "regions.\n",
    "\"\"\"\n",
    "\n",
    "import json\n",
    "import collections\n",
    "import shutil\n",
    "\n",
    "\n",
    "def sort_annotations(annotations):\n",
    "    ordered_annotations = collections.OrderedDict(sorted(annotations.items()))\n",
    "    valid_annotations = {}\n",
    "    filenames = []\n",
    "    for k, a in ordered_annotations.items():\n",
    "        if a['regions']:\n",
    "            filenames.append(a['filename'])\n",
    "            valid_annotations[k] = a\n",
    "    return valid_annotations, filenames\n",
    "\n",
    "\n",
    "def merge_annotations(s1, s2, m):\n",
    "    a1 = json.load(open(s1))\n",
    "    a2 = json.load(open(s2))\n",
    "\n",
    "    z = { **a1, **a2 }\n",
    "    z, filenames = sort_annotations(z)\n",
    "    with open(m, 'w') as outfile:\n",
    "        json.dump(z, outfile)\n",
    "\n",
    "    return filenames\n",
    "\n",
    "\n",
    "# Eg: filenames = merge_annotations('/tmp/annotations.json', '/tmp/wolf_11.json', '/tmp/merged.json')\n",
    "\n",
    "source_dir = '../images/imgnet_n02114100/images/'\n",
    "target_dir = '../images/imgnet_n02114100/train/'\n",
    "\n",
    "\n",
    "def merge_images(original_via, new_via, source_image_dir, target_image_dir):\n",
    "\n",
    "    filenames = merge_annotations(original_via, new_via, '/tmp/merged.json')\n",
    "\n",
    "    # Copy all the files from source to the target, note it will\n",
    "    # overwrite any that exist in the target.\n",
    "    for f in filenames:\n",
    "        shutil.copy(source_image_dir+f, target_image_dir+f)\n",
    "\n",
    "    print(\"Images copied. Overwriting annotation file.\")\n",
    "    shutil.copy('/tmp/merged.json', target_image_dir+'/annotations.json')\n",
    "\n",
    "    return filenames"
   ]
  }
 ],
 "metadata": {
  "kernelspec": {
   "display_name": "Python 3",
   "language": "python",
   "name": "python3"
  },
  "language_info": {
   "codemirror_mode": {
    "name": "ipython",
    "version": 3
   },
   "file_extension": ".py",
   "mimetype": "text/x-python",
   "name": "python",
   "nbconvert_exporter": "python",
   "pygments_lexer": "ipython3",
   "version": "3.7.6"
  }
 },
 "nbformat": 4,
 "nbformat_minor": 4
}
